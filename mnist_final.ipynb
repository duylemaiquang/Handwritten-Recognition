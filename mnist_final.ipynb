{
  "cells": [
    {
      "cell_type": "code",
      "execution_count": null,
      "id": "c7bfa74d-9ae9-42ea-84c0-82576af9edb7",
      "metadata": {
        "id": "c7bfa74d-9ae9-42ea-84c0-82576af9edb7",
        "outputId": "7f806d87-5a08-466e-e3d9-e7bec2a3679b"
      },
      "outputs": [
        {
          "name": "stderr",
          "output_type": "stream",
          "text": [
            "C:\\Users\\DuyLe\\miniforge3\\envs\\mnist\\lib\\site-packages\\tqdm\\auto.py:22: TqdmWarning: IProgress not found. Please update jupyter and ipywidgets. See https://ipywidgets.readthedocs.io/en/stable/user_install.html\n",
            "  from .autonotebook import tqdm as notebook_tqdm\n"
          ]
        }
      ],
      "source": [
        "import numpy as np\n",
        "import matplotlib.pyplot as plt\n",
        "import torch\n",
        "import torch.nn as nn\n",
        "from mnist import MNIST\n",
        "mndata = MNIST('./data_mnist')\n",
        "mndata.gz = True\n",
        "images, labels = mndata.load_training()"
      ]
    },
    {
      "cell_type": "code",
      "execution_count": null,
      "id": "7414431d-7e21-4972-a726-00d292af20b5",
      "metadata": {
        "id": "7414431d-7e21-4972-a726-00d292af20b5"
      },
      "outputs": [],
      "source": [
        "images = np.reshape(images, (60000, 1, 28 ,28))\n",
        "labels = np.array(labels)\n",
        "b = np.zeros((labels.size, labels.max() + 1))\n",
        "b[np.arange(labels.size), labels] = 1\n",
        "labels = b\n",
        "images = images/255\n",
        "labels = torch.tensor(labels).to(\"cuda\")\n",
        "images = torch.tensor(images).to(\"cuda\")\n",
        "images = images.to(dtype=torch.float32)"
      ]
    },
    {
      "cell_type": "code",
      "execution_count": null,
      "id": "3ca0feea-bf8b-4268-8255-4fdf9f154acc",
      "metadata": {
        "id": "3ca0feea-bf8b-4268-8255-4fdf9f154acc",
        "outputId": "f954064c-5cf3-4287-b204-4f1b80b689b6"
      },
      "outputs": [
        {
          "data": {
            "text/plain": [
              "[Parameter containing:\n",
              " tensor([[-0.0083, -0.0027, -0.0286,  ..., -0.0245, -0.0344, -0.0134],\n",
              "         [-0.0154,  0.0335,  0.0318,  ...,  0.0244,  0.0168, -0.0125],\n",
              "         [ 0.0283, -0.0066,  0.0133,  ...,  0.0103, -0.0223, -0.0309],\n",
              "         ...,\n",
              "         [-0.0215,  0.0188,  0.0101,  ...,  0.0329, -0.0337, -0.0097],\n",
              "         [-0.0349, -0.0291, -0.0049,  ..., -0.0095,  0.0152, -0.0271],\n",
              "         [ 0.0203,  0.0267,  0.0041,  ...,  0.0320,  0.0124, -0.0123]],\n",
              "        device='cuda:0', requires_grad=True),\n",
              " Parameter containing:\n",
              " tensor([-0.0127,  0.0201,  0.0109, -0.0203, -0.0172, -0.0307, -0.0332,  0.0139,\n",
              "          0.0253,  0.0342], device='cuda:0', requires_grad=True)]"
            ]
          },
          "execution_count": 3,
          "metadata": {},
          "output_type": "execute_result"
        }
      ],
      "source": [
        "class Linear_Mapping(torch.nn.Module):\n",
        "    def __init__(self):\n",
        "        super().__init__()\n",
        "        # self.weight=torch.nn.parameter.Parameter(torch.randn(784,10))\n",
        "        # self.bias=torch.nn.parameter.Parameter(torch.randn(10))\n",
        "        self.linear = torch.nn.Linear(784, 10)\n",
        "    def forward(self,inp):\n",
        "        inp = torch.flatten(inp, start_dim=1)\n",
        "        # return (torch.matmul(inp, self.weight) + self.bias)\n",
        "        return self.linear(inp)\n",
        "\n",
        "model = Linear_Mapping().to(\"cuda\")\n",
        "list(model.parameters())"
      ]
    },
    {
      "cell_type": "code",
      "execution_count": null,
      "id": "ea6946c0-660d-4b01-aad2-4d5a6bad99c8",
      "metadata": {
        "tags": [],
        "id": "ea6946c0-660d-4b01-aad2-4d5a6bad99c8",
        "outputId": "bf5fb5ce-254e-4fb8-94a3-4a3b42b69aa4"
      },
      "outputs": [
        {
          "name": "stdout",
          "output_type": "stream",
          "text": [
            "0 tensor(0.1912, device='cuda:0', dtype=torch.float64, grad_fn=<DivBackward0>)\n",
            "1 tensor(0.1617, device='cuda:0', dtype=torch.float64, grad_fn=<DivBackward0>)\n",
            "2 tensor(0.1525, device='cuda:0', dtype=torch.float64, grad_fn=<DivBackward0>)\n",
            "3 tensor(0.1469, device='cuda:0', dtype=torch.float64, grad_fn=<DivBackward0>)\n",
            "4 tensor(0.1411, device='cuda:0', dtype=torch.float64, grad_fn=<DivBackward0>)\n",
            "5 tensor(0.1396, device='cuda:0', dtype=torch.float64, grad_fn=<DivBackward0>)\n",
            "6 tensor(0.1364, device='cuda:0', dtype=torch.float64, grad_fn=<DivBackward0>)\n",
            "7 tensor(0.1359, device='cuda:0', dtype=torch.float64, grad_fn=<DivBackward0>)\n",
            "8 tensor(0.1313, device='cuda:0', dtype=torch.float64, grad_fn=<DivBackward0>)\n",
            "9 tensor(0.1324, device='cuda:0', dtype=torch.float64, grad_fn=<DivBackward0>)\n",
            "10 tensor(0.1290, device='cuda:0', dtype=torch.float64, grad_fn=<DivBackward0>)\n",
            "11 tensor(0.1289, device='cuda:0', dtype=torch.float64, grad_fn=<DivBackward0>)\n",
            "12 tensor(0.1279, device='cuda:0', dtype=torch.float64, grad_fn=<DivBackward0>)\n",
            "13 tensor(0.1258, device='cuda:0', dtype=torch.float64, grad_fn=<DivBackward0>)\n",
            "14 tensor(0.1244, device='cuda:0', dtype=torch.float64, grad_fn=<DivBackward0>)\n",
            "15 tensor(0.1234, device='cuda:0', dtype=torch.float64, grad_fn=<DivBackward0>)\n",
            "16 tensor(0.1242, device='cuda:0', dtype=torch.float64, grad_fn=<DivBackward0>)\n",
            "17 tensor(0.1227, device='cuda:0', dtype=torch.float64, grad_fn=<DivBackward0>)\n",
            "18 tensor(0.1207, device='cuda:0', dtype=torch.float64, grad_fn=<DivBackward0>)\n",
            "19 tensor(0.1208, device='cuda:0', dtype=torch.float64, grad_fn=<DivBackward0>)\n",
            "20 tensor(0.1192, device='cuda:0', dtype=torch.float64, grad_fn=<DivBackward0>)\n",
            "21 tensor(0.1197, device='cuda:0', dtype=torch.float64, grad_fn=<DivBackward0>)\n",
            "22 tensor(0.1184, device='cuda:0', dtype=torch.float64, grad_fn=<DivBackward0>)\n",
            "23 tensor(0.1182, device='cuda:0', dtype=torch.float64, grad_fn=<DivBackward0>)\n",
            "24 tensor(0.1173, device='cuda:0', dtype=torch.float64, grad_fn=<DivBackward0>)\n",
            "25 tensor(0.1180, device='cuda:0', dtype=torch.float64, grad_fn=<DivBackward0>)\n",
            "26 tensor(0.1164, device='cuda:0', dtype=torch.float64, grad_fn=<DivBackward0>)\n",
            "27 tensor(0.1162, device='cuda:0', dtype=torch.float64, grad_fn=<DivBackward0>)\n",
            "28 tensor(0.1163, device='cuda:0', dtype=torch.float64, grad_fn=<DivBackward0>)\n",
            "29 tensor(0.1161, device='cuda:0', dtype=torch.float64, grad_fn=<DivBackward0>)\n",
            "30 tensor(0.1168, device='cuda:0', dtype=torch.float64, grad_fn=<DivBackward0>)\n",
            "31 tensor(0.1137, device='cuda:0', dtype=torch.float64, grad_fn=<DivBackward0>)\n",
            "32 tensor(0.1132, device='cuda:0', dtype=torch.float64, grad_fn=<DivBackward0>)\n",
            "33 tensor(0.1132, device='cuda:0', dtype=torch.float64, grad_fn=<DivBackward0>)\n",
            "34 tensor(0.1130, device='cuda:0', dtype=torch.float64, grad_fn=<DivBackward0>)\n",
            "35 tensor(0.1121, device='cuda:0', dtype=torch.float64, grad_fn=<DivBackward0>)\n",
            "36 tensor(0.1113, device='cuda:0', dtype=torch.float64, grad_fn=<DivBackward0>)\n",
            "37 tensor(0.1125, device='cuda:0', dtype=torch.float64, grad_fn=<DivBackward0>)\n",
            "38 tensor(0.1095, device='cuda:0', dtype=torch.float64, grad_fn=<DivBackward0>)\n",
            "39 tensor(0.1105, device='cuda:0', dtype=torch.float64, grad_fn=<DivBackward0>)\n",
            "40 tensor(0.1099, device='cuda:0', dtype=torch.float64, grad_fn=<DivBackward0>)\n",
            "41 tensor(0.1104, device='cuda:0', dtype=torch.float64, grad_fn=<DivBackward0>)\n",
            "42 tensor(0.1091, device='cuda:0', dtype=torch.float64, grad_fn=<DivBackward0>)\n",
            "43 tensor(0.1094, device='cuda:0', dtype=torch.float64, grad_fn=<DivBackward0>)\n",
            "44 tensor(0.1084, device='cuda:0', dtype=torch.float64, grad_fn=<DivBackward0>)\n",
            "45 tensor(0.1075, device='cuda:0', dtype=torch.float64, grad_fn=<DivBackward0>)\n",
            "46 tensor(0.1072, device='cuda:0', dtype=torch.float64, grad_fn=<DivBackward0>)\n",
            "47 tensor(0.1079, device='cuda:0', dtype=torch.float64, grad_fn=<DivBackward0>)\n",
            "48 tensor(0.1079, device='cuda:0', dtype=torch.float64, grad_fn=<DivBackward0>)\n",
            "49 tensor(0.1073, device='cuda:0', dtype=torch.float64, grad_fn=<DivBackward0>)\n",
            "50 tensor(0.1063, device='cuda:0', dtype=torch.float64, grad_fn=<DivBackward0>)\n",
            "51 tensor(0.1064, device='cuda:0', dtype=torch.float64, grad_fn=<DivBackward0>)\n",
            "52 tensor(0.1059, device='cuda:0', dtype=torch.float64, grad_fn=<DivBackward0>)\n",
            "53 tensor(0.1059, device='cuda:0', dtype=torch.float64, grad_fn=<DivBackward0>)\n",
            "54 tensor(0.1049, device='cuda:0', dtype=torch.float64, grad_fn=<DivBackward0>)\n",
            "55 tensor(0.1048, device='cuda:0', dtype=torch.float64, grad_fn=<DivBackward0>)\n"
          ]
        }
      ],
      "source": [
        "epoch = 1000\n",
        "losslist = []\n",
        "optimizer = torch.optim.SGD(model.parameters(), lr=0.1)\n",
        "for i in range(epoch):\n",
        "    sumloss = 0\n",
        "    model.train()\n",
        "    for g,l in zip(images,labels): \n",
        "        g = g.reshape(1,28,28)\n",
        "        output = model(g)\n",
        "        sftm = torch.softmax(output, dim=1)\n",
        "        loss = torch.sum(torch.pow(torch.abs(sftm-l),2))\n",
        "        optimizer.zero_grad()\n",
        "        loss.backward()\n",
        "        optimizer.step()\n",
        "        sumloss = sumloss + loss\n",
        "    meanloss = sumloss/60000\n",
        "    losslist.append(meanloss.cpu())\n",
        "    print(i, meanloss)"
      ]
    },
    {
      "cell_type": "code",
      "execution_count": null,
      "id": "bd82a92c-4770-42d6-b0bf-611742626b95",
      "metadata": {
        "id": "bd82a92c-4770-42d6-b0bf-611742626b95"
      },
      "outputs": [],
      "source": [
        "epoch = 1000\n",
        "losslist = []\n",
        "optimizer = torch.optim.SGD(model.parameters(), lr=0.1)\n",
        "ce_loss = nn.CrossEntropyLoss()\n",
        "for i in range(epoch):\n",
        "    sumloss = 0\n",
        "    model.train()\n",
        "    for g,l in zip(images,labels): \n",
        "        g = g.reshape(1,28,28)\n",
        "        l = l.unsqueeze(0)\n",
        "        output = model(g)\n",
        "        sftm = torch.softmax(output, dim=1)\n",
        "        loss = ce_loss(g,l)\n",
        "        optimizer.zero_grad()\n",
        "        loss.backward()\n",
        "        optimizer.step()\n",
        "        sumloss = sumloss + loss\n",
        "    meanloss = sumloss/60000\n",
        "    losslist.append(meanloss.cpu())\n",
        "    print(i, meanloss)"
      ]
    },
    {
      "cell_type": "code",
      "execution_count": null,
      "id": "1ebffce4-1374-442b-99fd-46a774be747a",
      "metadata": {
        "id": "1ebffce4-1374-442b-99fd-46a774be747a"
      },
      "outputs": [],
      "source": [
        "class CNN(torch.nn.Module):\n",
        "    def __init__(self):\n",
        "        super().__init__()\n",
        "        self.conv1 = nn.Conv2d(in_channels=1, out_channels=16, kernel_size=3, stride=1)\n",
        "        self.conv2 = nn.Conv2d(in_channels=16, out_channels=32, kernel_size=3, stride=1)\n",
        "        self.conv3 = nn.Conv2d(in_channels=32, out_channels=64, kernel_size=3, stride=1)\n",
        "        self.conv4 = nn.Conv2d(in_channels=64, out_channels=128, kernel_size=3, stride=1)\n",
        "        self.conv5 = nn.Conv2d(in_channels=128, out_channels=256, kernel_size=3, stride=1)\n",
        "        \n",
        "        self.flatten = nn.Flatten()\n",
        "        self.dense = nn.Linear(in_features=82944, out_features=10)\n",
        "        self.relu = nn.ReLU()\n",
        "    def forward(self, inp):\n",
        "        output = self.conv1(inp)\n",
        "        output = self.relu(output)\n",
        "        output = self.conv2(output)\n",
        "        output = self.relu(output)\n",
        "        output = self.conv3(output)\n",
        "        output = self.relu(output)\n",
        "        output = self.conv4(output)\n",
        "        output = self.relu(output)\n",
        "        output = self.conv5(output)\n",
        "        output = self.relu(output)\n",
        "        output = self.flatten(output)\n",
        "        output = self.dense(output)\n",
        "        return output\n",
        "    \n",
        "model_CNN = CNN().to(\"cuda\")"
      ]
    },
    {
      "cell_type": "code",
      "execution_count": null,
      "id": "ed14db33-77e5-4649-8848-5d6a8aa6b06e",
      "metadata": {
        "id": "ed14db33-77e5-4649-8848-5d6a8aa6b06e"
      },
      "outputs": [],
      "source": [
        "images.shape"
      ]
    },
    {
      "cell_type": "code",
      "execution_count": null,
      "id": "7ecca494-02e4-437b-9030-1ec180f2ff8b",
      "metadata": {
        "id": "7ecca494-02e4-437b-9030-1ec180f2ff8b",
        "outputId": "7f3a203b-570c-4c19-88f8-f00267160e7e"
      },
      "outputs": [
        {
          "name": "stdout",
          "output_type": "stream",
          "text": [
            "0 tensor(0.0809, device='cuda:0', dtype=torch.float64, grad_fn=<DivBackward0>)\n",
            "1 tensor(0.0298, device='cuda:0', dtype=torch.float64, grad_fn=<DivBackward0>)\n",
            "2 tensor(0.0225, device='cuda:0', dtype=torch.float64, grad_fn=<DivBackward0>)\n",
            "3 tensor(0.0182, device='cuda:0', dtype=torch.float64, grad_fn=<DivBackward0>)\n",
            "4 tensor(0.0142, device='cuda:0', dtype=torch.float64, grad_fn=<DivBackward0>)\n",
            "5 tensor(0.0123, device='cuda:0', dtype=torch.float64, grad_fn=<DivBackward0>)\n",
            "6 tensor(0.0121, device='cuda:0', dtype=torch.float64, grad_fn=<DivBackward0>)\n",
            "7 tensor(0.0122, device='cuda:0', dtype=torch.float64, grad_fn=<DivBackward0>)\n",
            "8 tensor(0.0108, device='cuda:0', dtype=torch.float64, grad_fn=<DivBackward0>)\n",
            "9 tensor(0.0104, device='cuda:0', dtype=torch.float64, grad_fn=<DivBackward0>)\n",
            "10 tensor(0.0088, device='cuda:0', dtype=torch.float64, grad_fn=<DivBackward0>)\n",
            "11 tensor(0.0117, device='cuda:0', dtype=torch.float64, grad_fn=<DivBackward0>)\n",
            "12 tensor(0.0160, device='cuda:0', dtype=torch.float64, grad_fn=<DivBackward0>)\n",
            "13 tensor(1.4208, device='cuda:0', dtype=torch.float64, grad_fn=<DivBackward0>)\n"
          ]
        },
        {
          "ename": "KeyboardInterrupt",
          "evalue": "",
          "output_type": "error",
          "traceback": [
            "\u001b[1;31m---------------------------------------------------------------------------\u001b[0m",
            "\u001b[1;31mKeyboardInterrupt\u001b[0m                         Traceback (most recent call last)",
            "Cell \u001b[1;32mIn [5], line 9\u001b[0m\n\u001b[0;32m      7\u001b[0m \u001b[38;5;28;01mfor\u001b[39;00m g,l \u001b[38;5;129;01min\u001b[39;00m \u001b[38;5;28mzip\u001b[39m(images,labels):\n\u001b[0;32m      8\u001b[0m     g \u001b[38;5;241m=\u001b[39m g\u001b[38;5;241m.\u001b[39mreshape(\u001b[38;5;241m1\u001b[39m, \u001b[38;5;241m1\u001b[39m, \u001b[38;5;241m28\u001b[39m, \u001b[38;5;241m28\u001b[39m)\n\u001b[1;32m----> 9\u001b[0m     output \u001b[38;5;241m=\u001b[39m \u001b[43mmodel_CNN\u001b[49m\u001b[43m(\u001b[49m\u001b[43mg\u001b[49m\u001b[43m)\u001b[49m\n\u001b[0;32m     10\u001b[0m     sftm \u001b[38;5;241m=\u001b[39m torch\u001b[38;5;241m.\u001b[39msoftmax(output, dim\u001b[38;5;241m=\u001b[39m\u001b[38;5;241m1\u001b[39m)\n\u001b[0;32m     11\u001b[0m     loss \u001b[38;5;241m=\u001b[39m torch\u001b[38;5;241m.\u001b[39msum(torch\u001b[38;5;241m.\u001b[39mpow(torch\u001b[38;5;241m.\u001b[39mabs(sftm\u001b[38;5;241m-\u001b[39ml),\u001b[38;5;241m2\u001b[39m))\n",
            "File \u001b[1;32m~\\miniforge3\\envs\\mnist\\lib\\site-packages\\torch\\nn\\modules\\module.py:1190\u001b[0m, in \u001b[0;36mModule._call_impl\u001b[1;34m(self, *input, **kwargs)\u001b[0m\n\u001b[0;32m   1186\u001b[0m \u001b[38;5;66;03m# If we don't have any hooks, we want to skip the rest of the logic in\u001b[39;00m\n\u001b[0;32m   1187\u001b[0m \u001b[38;5;66;03m# this function, and just call forward.\u001b[39;00m\n\u001b[0;32m   1188\u001b[0m \u001b[38;5;28;01mif\u001b[39;00m \u001b[38;5;129;01mnot\u001b[39;00m (\u001b[38;5;28mself\u001b[39m\u001b[38;5;241m.\u001b[39m_backward_hooks \u001b[38;5;129;01mor\u001b[39;00m \u001b[38;5;28mself\u001b[39m\u001b[38;5;241m.\u001b[39m_forward_hooks \u001b[38;5;129;01mor\u001b[39;00m \u001b[38;5;28mself\u001b[39m\u001b[38;5;241m.\u001b[39m_forward_pre_hooks \u001b[38;5;129;01mor\u001b[39;00m _global_backward_hooks\n\u001b[0;32m   1189\u001b[0m         \u001b[38;5;129;01mor\u001b[39;00m _global_forward_hooks \u001b[38;5;129;01mor\u001b[39;00m _global_forward_pre_hooks):\n\u001b[1;32m-> 1190\u001b[0m     \u001b[38;5;28;01mreturn\u001b[39;00m forward_call(\u001b[38;5;241m*\u001b[39m\u001b[38;5;28minput\u001b[39m, \u001b[38;5;241m*\u001b[39m\u001b[38;5;241m*\u001b[39mkwargs)\n\u001b[0;32m   1191\u001b[0m \u001b[38;5;66;03m# Do not call functions when jit is used\u001b[39;00m\n\u001b[0;32m   1192\u001b[0m full_backward_hooks, non_full_backward_hooks \u001b[38;5;241m=\u001b[39m [], []\n",
            "Cell \u001b[1;32mIn [4], line 20\u001b[0m, in \u001b[0;36mCNN.forward\u001b[1;34m(self, inp)\u001b[0m\n\u001b[0;32m     18\u001b[0m output \u001b[38;5;241m=\u001b[39m \u001b[38;5;28mself\u001b[39m\u001b[38;5;241m.\u001b[39mconv3(output)\n\u001b[0;32m     19\u001b[0m output \u001b[38;5;241m=\u001b[39m \u001b[38;5;28mself\u001b[39m\u001b[38;5;241m.\u001b[39mrelu(output)\n\u001b[1;32m---> 20\u001b[0m output \u001b[38;5;241m=\u001b[39m \u001b[38;5;28;43mself\u001b[39;49m\u001b[38;5;241;43m.\u001b[39;49m\u001b[43mconv4\u001b[49m\u001b[43m(\u001b[49m\u001b[43moutput\u001b[49m\u001b[43m)\u001b[49m\n\u001b[0;32m     21\u001b[0m output \u001b[38;5;241m=\u001b[39m \u001b[38;5;28mself\u001b[39m\u001b[38;5;241m.\u001b[39mrelu(output)\n\u001b[0;32m     22\u001b[0m output \u001b[38;5;241m=\u001b[39m \u001b[38;5;28mself\u001b[39m\u001b[38;5;241m.\u001b[39mconv5(output)\n",
            "File \u001b[1;32m~\\miniforge3\\envs\\mnist\\lib\\site-packages\\torch\\nn\\modules\\module.py:1190\u001b[0m, in \u001b[0;36mModule._call_impl\u001b[1;34m(self, *input, **kwargs)\u001b[0m\n\u001b[0;32m   1186\u001b[0m \u001b[38;5;66;03m# If we don't have any hooks, we want to skip the rest of the logic in\u001b[39;00m\n\u001b[0;32m   1187\u001b[0m \u001b[38;5;66;03m# this function, and just call forward.\u001b[39;00m\n\u001b[0;32m   1188\u001b[0m \u001b[38;5;28;01mif\u001b[39;00m \u001b[38;5;129;01mnot\u001b[39;00m (\u001b[38;5;28mself\u001b[39m\u001b[38;5;241m.\u001b[39m_backward_hooks \u001b[38;5;129;01mor\u001b[39;00m \u001b[38;5;28mself\u001b[39m\u001b[38;5;241m.\u001b[39m_forward_hooks \u001b[38;5;129;01mor\u001b[39;00m \u001b[38;5;28mself\u001b[39m\u001b[38;5;241m.\u001b[39m_forward_pre_hooks \u001b[38;5;129;01mor\u001b[39;00m _global_backward_hooks\n\u001b[0;32m   1189\u001b[0m         \u001b[38;5;129;01mor\u001b[39;00m _global_forward_hooks \u001b[38;5;129;01mor\u001b[39;00m _global_forward_pre_hooks):\n\u001b[1;32m-> 1190\u001b[0m     \u001b[38;5;28;01mreturn\u001b[39;00m forward_call(\u001b[38;5;241m*\u001b[39m\u001b[38;5;28minput\u001b[39m, \u001b[38;5;241m*\u001b[39m\u001b[38;5;241m*\u001b[39mkwargs)\n\u001b[0;32m   1191\u001b[0m \u001b[38;5;66;03m# Do not call functions when jit is used\u001b[39;00m\n\u001b[0;32m   1192\u001b[0m full_backward_hooks, non_full_backward_hooks \u001b[38;5;241m=\u001b[39m [], []\n",
            "File \u001b[1;32m~\\miniforge3\\envs\\mnist\\lib\\site-packages\\torch\\nn\\modules\\conv.py:463\u001b[0m, in \u001b[0;36mConv2d.forward\u001b[1;34m(self, input)\u001b[0m\n\u001b[0;32m    462\u001b[0m \u001b[38;5;28;01mdef\u001b[39;00m \u001b[38;5;21mforward\u001b[39m(\u001b[38;5;28mself\u001b[39m, \u001b[38;5;28minput\u001b[39m: Tensor) \u001b[38;5;241m-\u001b[39m\u001b[38;5;241m>\u001b[39m Tensor:\n\u001b[1;32m--> 463\u001b[0m     \u001b[38;5;28;01mreturn\u001b[39;00m \u001b[38;5;28;43mself\u001b[39;49m\u001b[38;5;241;43m.\u001b[39;49m\u001b[43m_conv_forward\u001b[49m\u001b[43m(\u001b[49m\u001b[38;5;28;43minput\u001b[39;49m\u001b[43m,\u001b[49m\u001b[43m \u001b[49m\u001b[38;5;28;43mself\u001b[39;49m\u001b[38;5;241;43m.\u001b[39;49m\u001b[43mweight\u001b[49m\u001b[43m,\u001b[49m\u001b[43m \u001b[49m\u001b[38;5;28;43mself\u001b[39;49m\u001b[38;5;241;43m.\u001b[39;49m\u001b[43mbias\u001b[49m\u001b[43m)\u001b[49m\n",
            "File \u001b[1;32m~\\miniforge3\\envs\\mnist\\lib\\site-packages\\torch\\nn\\modules\\conv.py:459\u001b[0m, in \u001b[0;36mConv2d._conv_forward\u001b[1;34m(self, input, weight, bias)\u001b[0m\n\u001b[0;32m    455\u001b[0m \u001b[38;5;28;01mif\u001b[39;00m \u001b[38;5;28mself\u001b[39m\u001b[38;5;241m.\u001b[39mpadding_mode \u001b[38;5;241m!=\u001b[39m \u001b[38;5;124m'\u001b[39m\u001b[38;5;124mzeros\u001b[39m\u001b[38;5;124m'\u001b[39m:\n\u001b[0;32m    456\u001b[0m     \u001b[38;5;28;01mreturn\u001b[39;00m F\u001b[38;5;241m.\u001b[39mconv2d(F\u001b[38;5;241m.\u001b[39mpad(\u001b[38;5;28minput\u001b[39m, \u001b[38;5;28mself\u001b[39m\u001b[38;5;241m.\u001b[39m_reversed_padding_repeated_twice, mode\u001b[38;5;241m=\u001b[39m\u001b[38;5;28mself\u001b[39m\u001b[38;5;241m.\u001b[39mpadding_mode),\n\u001b[0;32m    457\u001b[0m                     weight, bias, \u001b[38;5;28mself\u001b[39m\u001b[38;5;241m.\u001b[39mstride,\n\u001b[0;32m    458\u001b[0m                     _pair(\u001b[38;5;241m0\u001b[39m), \u001b[38;5;28mself\u001b[39m\u001b[38;5;241m.\u001b[39mdilation, \u001b[38;5;28mself\u001b[39m\u001b[38;5;241m.\u001b[39mgroups)\n\u001b[1;32m--> 459\u001b[0m \u001b[38;5;28;01mreturn\u001b[39;00m \u001b[43mF\u001b[49m\u001b[38;5;241;43m.\u001b[39;49m\u001b[43mconv2d\u001b[49m\u001b[43m(\u001b[49m\u001b[38;5;28;43minput\u001b[39;49m\u001b[43m,\u001b[49m\u001b[43m \u001b[49m\u001b[43mweight\u001b[49m\u001b[43m,\u001b[49m\u001b[43m \u001b[49m\u001b[43mbias\u001b[49m\u001b[43m,\u001b[49m\u001b[43m \u001b[49m\u001b[38;5;28;43mself\u001b[39;49m\u001b[38;5;241;43m.\u001b[39;49m\u001b[43mstride\u001b[49m\u001b[43m,\u001b[49m\n\u001b[0;32m    460\u001b[0m \u001b[43m                \u001b[49m\u001b[38;5;28;43mself\u001b[39;49m\u001b[38;5;241;43m.\u001b[39;49m\u001b[43mpadding\u001b[49m\u001b[43m,\u001b[49m\u001b[43m \u001b[49m\u001b[38;5;28;43mself\u001b[39;49m\u001b[38;5;241;43m.\u001b[39;49m\u001b[43mdilation\u001b[49m\u001b[43m,\u001b[49m\u001b[43m \u001b[49m\u001b[38;5;28;43mself\u001b[39;49m\u001b[38;5;241;43m.\u001b[39;49m\u001b[43mgroups\u001b[49m\u001b[43m)\u001b[49m\n",
            "\u001b[1;31mKeyboardInterrupt\u001b[0m: "
          ]
        }
      ],
      "source": [
        "epoch = 1000\n",
        "losslist_CNN = []\n",
        "optimizer = torch.optim.SGD(model_CNN.parameters(), lr=0.01)\n",
        "for i in range(epoch):\n",
        "    sumloss = 0\n",
        "    model_CNN.train()\n",
        "    for g,l in zip(images,labels):\n",
        "        g = g.reshape(1, 1, 28, 28)\n",
        "        output = model_CNN(g)\n",
        "        sftm = torch.softmax(output, dim=1)\n",
        "        loss = torch.sum(torch.pow(torch.abs(sftm-l),2))\n",
        "        optimizer.zero_grad()\n",
        "        loss.backward()\n",
        "        optimizer.step()\n",
        "        sumloss = sumloss + loss\n",
        "    meanloss = sumloss/60000\n",
        "    losslist_CNN.append(meanloss.cpu())\n",
        "    print(i, meanloss)"
      ]
    }
  ],
  "metadata": {
    "kernelspec": {
      "display_name": "Python 3 (ipykernel)",
      "language": "python",
      "name": "python3"
    },
    "language_info": {
      "codemirror_mode": {
        "name": "ipython",
        "version": 3
      },
      "file_extension": ".py",
      "mimetype": "text/x-python",
      "name": "python",
      "nbconvert_exporter": "python",
      "pygments_lexer": "ipython3",
      "version": "3.10.6"
    },
    "colab": {
      "provenance": []
    }
  },
  "nbformat": 4,
  "nbformat_minor": 5
}